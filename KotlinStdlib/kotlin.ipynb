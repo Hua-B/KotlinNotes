{
 "cells": [
  {
   "cell_type": "markdown",
   "metadata": {},
   "source": [
    "# Kotlin"
   ]
  },
  {
   "cell_type": "markdown",
   "metadata": {},
   "source": [
    "## Any\n",
    "\n",
    "---"
   ]
  },
  {
   "cell_type": "markdown",
   "metadata": {},
   "source": [
    "### also\n",
    "\n",
    "`inline fun <T> T.also(block: (T) -> Unit): T`\n",
    "\n",
    "**The context object** is available as an argument (`it`). **The return value** is the object itself.\n",
    "\n",
    "And also do the following with the object"
   ]
  },
  {
   "cell_type": "code",
   "execution_count": 7,
   "metadata": {},
   "outputs": [
    {
     "name": "stdout",
     "output_type": "stream",
     "text": [
      "The list elements before adding new one: [one, two, three]\n"
     ]
    },
    {
     "data": {
      "text/plain": [
       "[one, two, three, four]"
      ]
     },
     "execution_count": 7,
     "metadata": {},
     "output_type": "execute_result"
    }
   ],
   "source": [
    "val numbers = mutableListOf(\"one\", \"two\", \"three\")\n",
    "numbers\n",
    "    .also { println(\"The list elements before adding new one: $it\") }\n",
    "    .add(\"four\")\n",
    "numbers"
   ]
  },
  {
   "cell_type": "markdown",
   "metadata": {},
   "source": [
    "### apply\n",
    "\n",
    "`inline fun <T> T.apply(block: T.() -> Unit): T`\n",
    "\n",
    "**The context object** is available as a receiver (`this`). **The return value** is the object itself.\n",
    "\n",
    "Apply the following assignments to the object"
   ]
  },
  {
   "cell_type": "code",
   "execution_count": 8,
   "metadata": {},
   "outputs": [
    {
     "data": {
      "text/plain": [
       "Person(name=Adam, age=32, city=London)"
      ]
     },
     "execution_count": 8,
     "metadata": {},
     "output_type": "execute_result"
    }
   ],
   "source": [
    "data class Person(var name: String, var age: Int = 0, var city: String = \"\")\n",
    "\n",
    "val adam = Person(\"Adam\").apply {\n",
    "    age = 32\n",
    "    city = \"London\"        \n",
    "}\n",
    "adam"
   ]
  },
  {
   "cell_type": "markdown",
   "metadata": {},
   "source": [
    "### let\n",
    "\n",
    "`inline fun <T, R> T.let(block: (T) -> R): R`\n",
    "\n",
    "**The context object** is available as an argument (`it`). **The return value** is the lambda result."
   ]
  },
  {
   "cell_type": "code",
   "execution_count": 19,
   "metadata": {},
   "outputs": [
    {
     "name": "stdout",
     "output_type": "stream",
     "text": [
      "[5, 4, 4]\n",
      "let() called on Hello\n",
      "5\n",
      "The first item of the list is 'one'\n",
      "First item after modifications: '!ONE!'\n"
     ]
    },
    {
     "data": {
      "text/plain": [
       "[one, two, three, four, five]"
      ]
     },
     "execution_count": 19,
     "metadata": {},
     "output_type": "execute_result"
    }
   ],
   "source": [
    "var numbers = mutableListOf(\"one\", \"two\", \"three\", \"four\", \"five\")\n",
    "numbers.map { it.length }.filter { it > 3 }.let(::println)\n",
    "\n",
    "val str: String? = \"Hello\"   \n",
    "val length = str?.let { \n",
    "    println(\"let() called on $it\")        \n",
    "    it.length\n",
    "}.let(::println)\n",
    "\n",
    "val modifiedFirstItem = numbers.first().let { firstItem ->\n",
    "    println(\"The first item of the list is '$firstItem'\")\n",
    "    if (firstItem.length >= 5) firstItem else \"!\" + firstItem + \"!\"\n",
    "}.toUpperCase()\n",
    "println(\"First item after modifications: '$modifiedFirstItem'\")\n",
    "numbers"
   ]
  },
  {
   "cell_type": "markdown",
   "metadata": {},
   "source": [
    "### run\n",
    "\n",
    "`inline fun <R> run(block: () -> R): R`\n",
    "\n",
    "Besides calling `run` on a receiver object, you can use it as a non-extension function. Non-extension `run` lets you execute a block of several statements where an expression is required."
   ]
  },
  {
   "cell_type": "code",
   "execution_count": 23,
   "metadata": {},
   "outputs": [
    {
     "name": "stdout",
     "output_type": "stream",
     "text": [
      "+1234\n",
      "-FFFF\n",
      "-a\n",
      "be\n"
     ]
    }
   ],
   "source": [
    "val hexNumberRegex = run {\n",
    "    val digits = \"0-9\"\n",
    "    val hexDigits = \"A-Fa-f\"\n",
    "    val sign = \"+-\"\n",
    "\n",
    "    Regex(\"[$sign]?[$digits$hexDigits]+\")\n",
    "}\n",
    "\n",
    "for (match in hexNumberRegex.findAll(\"+1234 -FFFF not-a-number\")) {\n",
    "    println(match.value)\n",
    "}"
   ]
  },
  {
   "cell_type": "markdown",
   "metadata": {},
   "source": [
    "`inline fun <T, R> T.run(block: T.() -> R): R`\n",
    "\n",
    "**The context object** is available as a receiver (`this`). **The return value** is the lambda result."
   ]
  },
  {
   "cell_type": "markdown",
   "metadata": {},
   "source": [
    "### runCatching\n",
    "\n",
    "### takeIf\n",
    "\n",
    "### takeUnless\n",
    "\n",
    "### to\n",
    "\n",
    "`infix fun <A, B> A.to(that: B): Pair<A, B>`\n",
    "\n",
    "Creates a tuple of type `Pair` from this and `that`.\n",
    "\n",
    "This can be useful for creating `Map` literals with less noise, for example:"
   ]
  },
  {
   "cell_type": "code",
   "execution_count": 24,
   "metadata": {},
   "outputs": [
    {
     "data": {
      "text/plain": [
       "{1=x, 2=y, -1=zz}"
      ]
     },
     "execution_count": 24,
     "metadata": {},
     "output_type": "execute_result"
    }
   ],
   "source": [
    "mapOf(1 to \"x\", 2 to \"y\", -1 to \"zz\")"
   ]
  },
  {
   "cell_type": "markdown",
   "metadata": {},
   "source": [
    "## Array\n",
    "\n",
    "---"
   ]
  },
  {
   "cell_type": "markdown",
   "metadata": {},
   "source": [
    "### indices\n",
    "\n",
    "`val <T> Array<out T>.indices: IntRange`\n",
    "\n",
    "Returns an `IntRange` of the valid indices for this collection."
   ]
  },
  {
   "cell_type": "code",
   "execution_count": 27,
   "metadata": {},
   "outputs": [
    {
     "data": {
      "text/plain": [
       "0..2"
      ]
     },
     "execution_count": 27,
     "metadata": {},
     "output_type": "execute_result"
    }
   ],
   "source": [
    "listOf('a', 'b', 'c').indices"
   ]
  },
  {
   "cell_type": "markdown",
   "metadata": {},
   "source": [
    "### lastIndex\n",
    "\n",
    "`val <T> Array<out T>.lastIndex: Int`\n",
    "\n",
    "Returns the index of the last item in the list or -1 if the list is empty."
   ]
  },
  {
   "cell_type": "code",
   "execution_count": 29,
   "metadata": {},
   "outputs": [
    {
     "data": {
      "text/plain": [
       "2"
      ]
     },
     "execution_count": 29,
     "metadata": {},
     "output_type": "execute_result"
    }
   ],
   "source": [
    "listOf(\"a\", \"x\", \"y\").lastIndex"
   ]
  },
  {
   "cell_type": "markdown",
   "metadata": {},
   "source": [
    "### all\n",
    "\n",
    "`inline fun <T> Array<out T>.all(predicate: (T) -> Boolean): Boolean`\n",
    "\n",
    "Returns `true` if all elements match the given predicate."
   ]
  },
  {
   "cell_type": "code",
   "execution_count": 30,
   "metadata": {},
   "outputs": [
    {
     "name": "stdout",
     "output_type": "stream",
     "text": [
      "zeroToTen.all { isEven(it) } is false\n",
      "zeroToTen.all(isEven) is false\n",
      "evens.all { isEven(it) } is true\n",
      "emptyList.all { false } is true\n"
     ]
    }
   ],
   "source": [
    "val isEven: (Int) -> Boolean = { it % 2 == 0 }\n",
    "val zeroToTen = 0..10\n",
    "println(\"zeroToTen.all { isEven(it) } is ${zeroToTen.all { isEven(it) }}\") // false\n",
    "println(\"zeroToTen.all(isEven) is ${zeroToTen.all(isEven)}\") // false\n",
    "\n",
    "val evens = zeroToTen.map { it * 2 }\n",
    "println(\"evens.all { isEven(it) } is ${evens.all { isEven(it) }}\") // true\n",
    "\n",
    "val emptyList = emptyList<Int>()\n",
    "println(\"emptyList.all { false } is ${emptyList.all { false }}\") // true"
   ]
  },
  {
   "cell_type": "code",
   "execution_count": null,
   "metadata": {},
   "outputs": [],
   "source": []
  }
 ],
 "metadata": {
  "kernelspec": {
   "display_name": "Kotlin",
   "language": "kotlin",
   "name": "kotlin"
  },
  "language_info": {
   "codemirror_mode": "text/x-kotlin",
   "file_extension": ".kt",
   "mimetype": "text/x-kotlin",
   "name": "kotlin",
   "pygments_lexer": "kotlin",
   "version": "1.4.20-dev-1121"
  }
 },
 "nbformat": 4,
 "nbformat_minor": 4
}
