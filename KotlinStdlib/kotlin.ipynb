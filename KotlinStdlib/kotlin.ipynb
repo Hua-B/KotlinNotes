{
 "cells": [
  {
   "cell_type": "markdown",
   "metadata": {},
   "source": [
    "# Kotlin"
   ]
  },
  {
   "cell_type": "markdown",
   "metadata": {},
   "source": [
    "## Any\n",
    "\n",
    "---"
   ]
  },
  {
   "cell_type": "markdown",
   "metadata": {},
   "source": [
    "### also\n",
    "\n",
    "`inline fun <T> T.also(block: (T) -> Unit): T`\n",
    "\n",
    "**The context object** is available as an argument (`it`). **The return value** is the object itself.\n",
    "\n",
    "And also do the following with the object"
   ]
  },
  {
   "cell_type": "code",
   "execution_count": 7,
   "metadata": {},
   "outputs": [
    {
     "name": "stdout",
     "output_type": "stream",
     "text": [
      "The list elements before adding new one: [one, two, three]\n"
     ]
    },
    {
     "data": {
      "text/plain": [
       "[one, two, three, four]"
      ]
     },
     "execution_count": 7,
     "metadata": {},
     "output_type": "execute_result"
    }
   ],
   "source": [
    "val numbers = mutableListOf(\"one\", \"two\", \"three\")\n",
    "numbers\n",
    "    .also { println(\"The list elements before adding new one: $it\") }\n",
    "    .add(\"four\")\n",
    "numbers"
   ]
  },
  {
   "cell_type": "markdown",
   "metadata": {},
   "source": [
    "### apply\n",
    "\n",
    "`inline fun <T> T.apply(block: T.() -> Unit): T`\n",
    "\n",
    "**The context object** is available as a receiver (`this`). **The return value** is the object itself.\n",
    "\n",
    "Apply the following assignments to the object"
   ]
  },
  {
   "cell_type": "code",
   "execution_count": 8,
   "metadata": {},
   "outputs": [
    {
     "data": {
      "text/plain": [
       "Person(name=Adam, age=32, city=London)"
      ]
     },
     "execution_count": 8,
     "metadata": {},
     "output_type": "execute_result"
    }
   ],
   "source": [
    "data class Person(var name: String, var age: Int = 0, var city: String = \"\")\n",
    "\n",
    "val adam = Person(\"Adam\").apply {\n",
    "    age = 32\n",
    "    city = \"London\"        \n",
    "}\n",
    "adam"
   ]
  },
  {
   "cell_type": "markdown",
   "metadata": {},
   "source": [
    "### let\n",
    "\n",
    "`inline fun <T, R> T.let(block: (T) -> R): R`\n",
    "\n",
    "**The context object** is available as an argument (`it`). **The return value** is the lambda result."
   ]
  },
  {
   "cell_type": "code",
   "execution_count": 19,
   "metadata": {},
   "outputs": [
    {
     "name": "stdout",
     "output_type": "stream",
     "text": [
      "[5, 4, 4]\n",
      "let() called on Hello\n",
      "5\n",
      "The first item of the list is 'one'\n",
      "First item after modifications: '!ONE!'\n"
     ]
    },
    {
     "data": {
      "text/plain": [
       "[one, two, three, four, five]"
      ]
     },
     "execution_count": 19,
     "metadata": {},
     "output_type": "execute_result"
    }
   ],
   "source": [
    "var numbers = mutableListOf(\"one\", \"two\", \"three\", \"four\", \"five\")\n",
    "numbers.map { it.length }.filter { it > 3 }.let(::println)\n",
    "\n",
    "val str: String? = \"Hello\"   \n",
    "val length = str?.let { \n",
    "    println(\"let() called on $it\")        \n",
    "    it.length\n",
    "}.let(::println)\n",
    "\n",
    "val modifiedFirstItem = numbers.first().let { firstItem ->\n",
    "    println(\"The first item of the list is '$firstItem'\")\n",
    "    if (firstItem.length >= 5) firstItem else \"!\" + firstItem + \"!\"\n",
    "}.toUpperCase()\n",
    "println(\"First item after modifications: '$modifiedFirstItem'\")\n",
    "numbers"
   ]
  },
  {
   "cell_type": "markdown",
   "metadata": {},
   "source": [
    "### run\n",
    "\n",
    "`inline fun <R> run(block: () -> R): R`\n",
    "\n",
    "Besides calling `run` on a receiver object, you can use it as a non-extension function. Non-extension `run` lets you execute a block of several statements where an expression is required."
   ]
  },
  {
   "cell_type": "code",
   "execution_count": 23,
   "metadata": {},
   "outputs": [
    {
     "name": "stdout",
     "output_type": "stream",
     "text": [
      "+1234\n",
      "-FFFF\n",
      "-a\n",
      "be\n"
     ]
    }
   ],
   "source": [
    "val hexNumberRegex = run {\n",
    "    val digits = \"0-9\"\n",
    "    val hexDigits = \"A-Fa-f\"\n",
    "    val sign = \"+-\"\n",
    "\n",
    "    Regex(\"[$sign]?[$digits$hexDigits]+\")\n",
    "}\n",
    "\n",
    "for (match in hexNumberRegex.findAll(\"+1234 -FFFF not-a-number\")) {\n",
    "    println(match.value)\n",
    "}"
   ]
  },
  {
   "cell_type": "markdown",
   "metadata": {},
   "source": [
    "`inline fun <T, R> T.run(block: T.() -> R): R`\n",
    "\n",
    "**The context object** is available as a receiver (`this`). **The return value** is the lambda result."
   ]
  },
  {
   "cell_type": "markdown",
   "metadata": {},
   "source": [
    "### runCatching\n",
    "\n",
    "### takeIf\n",
    "\n",
    "### takeUnless\n",
    "\n",
    "### to\n",
    "\n",
    "`infix fun <A, B> A.to(that: B): Pair<A, B>`\n",
    "\n",
    "Creates a tuple of type `Pair` from this and `that`.\n",
    "\n",
    "This can be useful for creating `Map` literals with less noise, for example:"
   ]
  },
  {
   "cell_type": "code",
   "execution_count": 24,
   "metadata": {},
   "outputs": [
    {
     "data": {
      "text/plain": [
       "{1=x, 2=y, -1=zz}"
      ]
     },
     "execution_count": 24,
     "metadata": {},
     "output_type": "execute_result"
    }
   ],
   "source": [
    "mapOf(1 to \"x\", 2 to \"y\", -1 to \"zz\")"
   ]
  },
  {
   "cell_type": "markdown",
   "metadata": {},
   "source": [
    "## Array\n",
    "\n",
    "---"
   ]
  },
  {
   "cell_type": "markdown",
   "metadata": {},
   "source": [
    "### indices\n",
    "\n",
    "`val <T> Array<out T>.indices: IntRange`\n",
    "\n",
    "Returns an `IntRange` of the valid indices for this collection."
   ]
  },
  {
   "cell_type": "code",
   "execution_count": 27,
   "metadata": {},
   "outputs": [
    {
     "data": {
      "text/plain": [
       "0..2"
      ]
     },
     "execution_count": 27,
     "metadata": {},
     "output_type": "execute_result"
    }
   ],
   "source": [
    "listOf('a', 'b', 'c').indices"
   ]
  },
  {
   "cell_type": "markdown",
   "metadata": {},
   "source": [
    "### lastIndex\n",
    "\n",
    "`val <T> Array<out T>.lastIndex: Int`\n",
    "\n",
    "Returns the index of the last item in the list or -1 if the list is empty."
   ]
  },
  {
   "cell_type": "code",
   "execution_count": 29,
   "metadata": {},
   "outputs": [
    {
     "data": {
      "text/plain": [
       "2"
      ]
     },
     "execution_count": 29,
     "metadata": {},
     "output_type": "execute_result"
    }
   ],
   "source": [
    "listOf(\"a\", \"x\", \"y\").lastIndex"
   ]
  },
  {
   "cell_type": "markdown",
   "metadata": {},
   "source": [
    "### all\n",
    "\n",
    "`inline fun <T> Array<out T>.all(predicate: (T) -> Boolean): Boolean`\n",
    "\n",
    "Returns `true` if all elements match the given predicate."
   ]
  },
  {
   "cell_type": "code",
   "execution_count": 30,
   "metadata": {},
   "outputs": [
    {
     "name": "stdout",
     "output_type": "stream",
     "text": [
      "zeroToTen.all { isEven(it) } is false\n",
      "zeroToTen.all(isEven) is false\n",
      "evens.all { isEven(it) } is true\n",
      "emptyList.all { false } is true\n"
     ]
    }
   ],
   "source": [
    "val isEven: (Int) -> Boolean = { it % 2 == 0 }\n",
    "val zeroToTen = 0..10\n",
    "println(\"zeroToTen.all { isEven(it) } is ${zeroToTen.all { isEven(it) }}\") // false\n",
    "println(\"zeroToTen.all(isEven) is ${zeroToTen.all(isEven)}\") // false\n",
    "\n",
    "val evens = zeroToTen.map { it * 2 }\n",
    "println(\"evens.all { isEven(it) } is ${evens.all { isEven(it) }}\") // true\n",
    "\n",
    "val emptyList = emptyList<Int>()\n",
    "println(\"emptyList.all { false } is ${emptyList.all { false }}\") // true"
   ]
  },
  {
   "cell_type": "markdown",
   "metadata": {},
   "source": [
    "### any\n",
    "\n",
    "`fun <T> Array<out T>.any(): Boolean`\n",
    "\n",
    "Returns `true` if array has at least one element."
   ]
  },
  {
   "cell_type": "code",
   "execution_count": 31,
   "metadata": {},
   "outputs": [
    {
     "name": "stdout",
     "output_type": "stream",
     "text": [
      "emptyList.any() is false\n",
      "nonEmptyList.any() is true\n"
     ]
    }
   ],
   "source": [
    "val emptyList = emptyList<Int>()\n",
    "println(\"emptyList.any() is ${emptyList.any()}\") // false\n",
    "\n",
    "val nonEmptyList = listOf(1, 2, 3)\n",
    "println(\"nonEmptyList.any() is ${nonEmptyList.any()}\") // true"
   ]
  },
  {
   "cell_type": "markdown",
   "metadata": {},
   "source": [
    "`inline fun <T> Array<out T>.any(predicate: (T) -> Boolean): Boolean`\n",
    "\n",
    "Returns `true` if at least one element matches the given predicate."
   ]
  },
  {
   "cell_type": "code",
   "execution_count": 32,
   "metadata": {},
   "outputs": [
    {
     "name": "stdout",
     "output_type": "stream",
     "text": [
      "zeroToTen.any { isEven(it) } is true\n",
      "zeroToTen.any(isEven) is true\n",
      "odds.any { isEven(it) } is false\n",
      "emptyList.any { true } is false\n"
     ]
    }
   ],
   "source": [
    "val isEven: (Int) -> Boolean = { it % 2 == 0 }\n",
    "val zeroToTen = 0..10\n",
    "println(\"zeroToTen.any { isEven(it) } is ${zeroToTen.any { isEven(it) }}\") // true\n",
    "println(\"zeroToTen.any(isEven) is ${zeroToTen.any(isEven)}\") // true\n",
    "\n",
    "val odds = zeroToTen.map { it * 2 + 1 }\n",
    "println(\"odds.any { isEven(it) } is ${odds.any { isEven(it) }}\") // false\n",
    "\n",
    "val emptyList = emptyList<Int>()\n",
    "println(\"emptyList.any { true } is ${emptyList.any { true }}\") // false"
   ]
  },
  {
   "cell_type": "markdown",
   "metadata": {},
   "source": [
    "### asIterable\n",
    "\n",
    "### asSequence\n",
    "\n",
    "### associate\n",
    "\n",
    "`inline fun <T, K, V> Array<out T>.associate(transform: (T) -> Pair<K, V>): Map<K, V>`\n",
    "\n",
    "Returns a `Map` containing key-value pairs provided by transform function applied to elements of the given array.\n",
    "\n",
    "If any of two pairs would have the same key the last one gets added to the map.\n",
    "\n",
    "The returned map preserves the entry iteration order of the original array."
   ]
  },
  {
   "cell_type": "code",
   "execution_count": 33,
   "metadata": {},
   "outputs": [
    {
     "data": {
      "text/plain": [
       "{72=H, 69=E, 76=L, 79=O}"
      ]
     },
     "execution_count": 33,
     "metadata": {},
     "output_type": "execute_result"
    }
   ],
   "source": [
    "intArrayOf(72, 69, 76, 76, 79).associate { it to it.toChar() }"
   ]
  },
  {
   "cell_type": "markdown",
   "metadata": {},
   "source": [
    "### associateBy\n",
    "\n",
    "`inline fun <T, K> Array<out T>.associateBy(keySelector: (T) -> K): Map<K, T>`\n",
    "\n",
    "Returns a `Map` containing the elements from the given array indexed by the key returned from keySelector function applied to each element.\n",
    "\n",
    "If any two elements would have the same key returned by keySelector the last one gets added to the map.\n",
    "\n",
    "The returned map preserves the entry iteration order of the original array."
   ]
  },
  {
   "cell_type": "code",
   "execution_count": 40,
   "metadata": {},
   "outputs": [
    {
     "data": {
      "text/plain": [
       "{H=72, E=69, L=76, O=79}"
      ]
     },
     "execution_count": 40,
     "metadata": {},
     "output_type": "execute_result"
    }
   ],
   "source": [
    "intArrayOf(72, 69, 76, 76, 79).associateBy { it.toChar() }"
   ]
  },
  {
   "cell_type": "markdown",
   "metadata": {},
   "source": [
    "`inline fun <T, K, V> Array<out T>.associateBy(keySelector: (T) -> K, valueTransform: (T) -> V): Map<K, V>`\n",
    "\n",
    "Returns a `Map` containing the values provided by valueTransform and indexed by keySelector functions applied to elements of the given array.\n",
    "\n",
    "If any two elements would have the same key returned by keySelector the last one gets added to the map.\n",
    "\n",
    "The returned map preserves the entry iteration order of the original array."
   ]
  },
  {
   "cell_type": "code",
   "execution_count": 41,
   "metadata": {},
   "outputs": [
    {
     "data": {
      "text/plain": [
       "{A=a, B=b, C=c, D=d, E=e}"
      ]
     },
     "execution_count": 41,
     "metadata": {},
     "output_type": "execute_result"
    }
   ],
   "source": [
    "intArrayOf(65, 65, 66, 67, 68, 69).associateBy({ it.toChar() }, { (it + 32).toChar() })"
   ]
  },
  {
   "cell_type": "markdown",
   "metadata": {},
   "source": [
    "### associateByTo\n",
    "\n",
    "`inline fun <T, K, M : MutableMap<in K, in T>> Array<out T>.associateByTo(destination: M, keySelector: (T) -> K): M`\n",
    "\n",
    "Populates and returns the destination mutable map with key-value pairs, where key is provided by the keySelector function applied to each element of the given array and value is the element itself.\n",
    "\n",
    "If any two elements would have the same key returned by keySelector the last one gets added to the map."
   ]
  },
  {
   "cell_type": "code",
   "execution_count": 45,
   "metadata": {},
   "outputs": [
    {
     "data": {
      "text/plain": [
       "{H=72, E=69, L=76, O=79}"
      ]
     },
     "execution_count": 45,
     "metadata": {},
     "output_type": "execute_result"
    }
   ],
   "source": [
    "intArrayOf(72, 69, 76, 76, 79).associateByTo(mutableMapOf<Char, Int>()) { it.toChar() }"
   ]
  },
  {
   "cell_type": "markdown",
   "metadata": {},
   "source": [
    "`inline fun <T, K, V, M : MutableMap<in K, in V>> Array<out T>.associateByTo(destination: M, keySelector: (T) -> K, valueTransform: (T) -> V): M`\n",
    "\n",
    "Populates and returns the destination mutable map with key-value pairs, where key is provided by the keySelector function and and value is provided by the valueTransform function applied to elements of the given array.\n",
    "\n",
    "If any two elements would have the same key returned by keySelector the last one gets added to the map."
   ]
  },
  {
   "cell_type": "code",
   "execution_count": 47,
   "metadata": {},
   "outputs": [
    {
     "data": {
      "text/plain": [
       "{A=a, B=b, C=c, D=d, E=e}"
      ]
     },
     "execution_count": 47,
     "metadata": {},
     "output_type": "execute_result"
    }
   ],
   "source": [
    "intArrayOf(65, 65, 66, 67, 68, 69).associateByTo(mutableMapOf<Char, Char>(), { it.toChar() }, { (it + 32).toChar() } )"
   ]
  },
  {
   "cell_type": "markdown",
   "metadata": {},
   "source": [
    "### associateTo\n",
    "\n",
    "`inline fun <T, K, V, M : MutableMap<in K, in V>> Array<out T>.associateTo(destination: M, transform: (T) -> Pair<K, V>): M`\n",
    "\n",
    "Populates and returns the destination mutable map with key-value pairs provided by transform function applied to each element of the given array.\n",
    "\n",
    "If any of two pairs would have the same key the last one gets added to the map."
   ]
  },
  {
   "cell_type": "code",
   "execution_count": 48,
   "metadata": {},
   "outputs": [
    {
     "data": {
      "text/plain": [
       "{72=H, 69=E, 76=L, 79=O}"
      ]
     },
     "execution_count": 48,
     "metadata": {},
     "output_type": "execute_result"
    }
   ],
   "source": [
    "intArrayOf(72, 69, 76, 76, 79).associateTo(mutableMapOf<Int, Char>()) { it to it.toChar() }"
   ]
  },
  {
   "cell_type": "markdown",
   "metadata": {},
   "source": [
    "### average\n",
    "\n",
    "### component1\n",
    "\n",
    "### component2\n",
    "\n",
    "### component3\n",
    "\n",
    "### component4\n",
    "\n",
    "### component5\n",
    "\n",
    "### contains\n",
    "\n",
    "### count\n",
    "\n",
    "`fun <T> Array<out T>.count(): Int`\n",
    "\n",
    "Returns the number of elements in this array.\n",
    "\n",
    "`inline fun <T> Array<out T>.count(predicate: (T) -> Boolean): Int`\n",
    "\n",
    "Returns the number of elements matching the given predicate.\n",
    "\n",
    "### distinct, distinctBy\n",
    "\n",
    "`fun <T> Array<out T>.distinct(): List<T>`\n",
    "\n",
    "Returns a list containing only distinct elements from the given array.\n",
    "\n",
    "`inline fun <T, K> Array<out T>.distinctBy(selector: (T) -> K): List<T>`\n",
    "\n",
    "Returns a list containing only elements from the given array having distinct keys returned by the given selector function.\n",
    "\n",
    "The elements in the resulting list are in the same order as they were in the source array."
   ]
  },
  {
   "cell_type": "code",
   "execution_count": 49,
   "metadata": {},
   "outputs": [
    {
     "name": "stdout",
     "output_type": "stream",
     "text": [
      "[a, A, b, B]\n",
      "[a, b]\n"
     ]
    }
   ],
   "source": [
    "val list = listOf('a', 'A', 'b', 'B', 'A', 'a')\n",
    "println(list.distinct()) // [a, A, b, B]\n",
    "println(list.distinctBy { it.toUpperCase() }) // [a, b]"
   ]
  },
  {
   "cell_type": "markdown",
   "metadata": {},
   "source": [
    "### drop, dropLast, dropWhile, dropLastWhile\n",
    "\n",
    "`fun <T> Array<out T>.drop(n: Int): List<T>`\n",
    "\n",
    "Returns a list containing all elements except first n elements.\n",
    "\n",
    "`fun <T> Array<out T>.dropLast(n: Int): List<T>`\n",
    "\n",
    "Returns a list containing all elements except last n elements.\n",
    "\n",
    "`inline fun <T> Array<out T>.dropWhile(predicate: (T) -> Boolean): List<T>`\n",
    "\n",
    "Returns a list containing all elements except first elements that satisfy the given predicate.\n",
    "\n",
    "`inline fun <T> Array<out T>.dropLastWhile(predicate: (T) -> Boolean): List<T>`\n",
    "\n",
    "Returns a list containing all elements except last elements that satisfy the given predicate."
   ]
  },
  {
   "cell_type": "code",
   "execution_count": 57,
   "metadata": {},
   "outputs": [
    {
     "name": "stdout",
     "output_type": "stream",
     "text": [
      "[x, y, z]\n",
      "[a, b, c]\n",
      "[x, y, z]\n",
      "[a, b, c]\n"
     ]
    }
   ],
   "source": [
    "val chars = ('a'..'z').toList()\n",
    "println(chars.drop(23)) // [x, y, z]\n",
    "println(chars.dropLast(23)) // [a, b, c]\n",
    "println(chars.dropWhile { it < 'x' }) // [x, y, z]\n",
    "println(chars.dropLastWhile { it > 'c' }) // [a, b, c]"
   ]
  },
  {
   "cell_type": "markdown",
   "metadata": {},
   "source": [
    "### elementAtOrElse\n",
    "\n",
    "`inline fun <T> Array<out T>.elementAtOrElse(index: Int, defaultValue: (Int) -> T): T`\n",
    "\n",
    "Returns an element at the given index or the result of calling the defaultValue function if the index is out of bounds of this array."
   ]
  },
  {
   "cell_type": "code",
   "execution_count": 58,
   "metadata": {},
   "outputs": [
    {
     "name": "stdout",
     "output_type": "stream",
     "text": [
      "1\n",
      "3\n",
      "42\n",
      "no int\n"
     ]
    }
   ],
   "source": [
    "val list = listOf(1, 2, 3)\n",
    "println(list.elementAtOrElse(0) { 42 }) // 1\n",
    "println(list.elementAtOrElse(2) { 42 }) // 3\n",
    "println(list.elementAtOrElse(3) { 42 }) // 42\n",
    "\n",
    "val emptyList = emptyList<Int>()\n",
    "println(emptyList.elementAtOrElse(0) { \"no int\" }) // no int"
   ]
  },
  {
   "cell_type": "markdown",
   "metadata": {},
   "source": [
    "### elementAtOrNull\n",
    "\n",
    "`fun <T> Array<out T>.elementAtOrNull(index: Int): T?`\n",
    "\n",
    "Returns an element at the given index or null if the index is out of bounds of this array."
   ]
  },
  {
   "cell_type": "code",
   "execution_count": 59,
   "metadata": {},
   "outputs": [
    {
     "name": "stdout",
     "output_type": "stream",
     "text": [
      "1\n",
      "3\n",
      "null\n",
      "null\n"
     ]
    }
   ],
   "source": [
    "val list = listOf(1, 2, 3)\n",
    "println(list.elementAtOrNull(0)) // 1\n",
    "println(list.elementAtOrNull(2)) // 3\n",
    "println(list.elementAtOrNull(3)) // null\n",
    "\n",
    "val emptyList = emptyList<Int>()\n",
    "println(emptyList.elementAtOrNull(0)) // null"
   ]
  },
  {
   "cell_type": "markdown",
   "metadata": {},
   "source": [
    "### filter, filterNot\n",
    "\n",
    "`inline fun <T> Array<out T>.filter(predicate: (T) -> Boolean): List<T>`\n",
    "\n",
    "Returns a list containing only elements matching the given predicate.\n",
    "\n",
    "`inline fun <T> Array<out T>.filterNot(predicate: (T) -> Boolean): List<T>`\n",
    "\n",
    "Returns a list containing all elements not matching the given predicate."
   ]
  },
  {
   "cell_type": "code",
   "execution_count": 61,
   "metadata": {},
   "outputs": [
    {
     "name": "stdout",
     "output_type": "stream",
     "text": [
      "[2, 4, 6]\n",
      "[1, 2, 4, 5, 7]\n"
     ]
    }
   ],
   "source": [
    "val numbers: List<Int> = listOf(1, 2, 3, 4, 5, 6, 7)\n",
    "val evenNumbers = numbers.filter { it % 2 == 0 }\n",
    "val notMultiplesOf3 = numbers.filterNot { number -> number % 3 == 0 }\n",
    "\n",
    "println(evenNumbers) // [2, 4, 6]\n",
    "println(notMultiplesOf3) // [1, 2, 4, 5, 7]"
   ]
  },
  {
   "cell_type": "markdown",
   "metadata": {},
   "source": [
    "### filterIndexed\n",
    "\n",
    "`inline fun <T> Array<out T>.filterIndexed(predicate: (index: Int, T) -> Boolean): List<T>`\n",
    "\n",
    "Returns a list containing only elements matching the given predicate."
   ]
  },
  {
   "cell_type": "code",
   "execution_count": 67,
   "metadata": {},
   "outputs": [
    {
     "name": "stdout",
     "output_type": "stream",
     "text": [
      "0\n",
      "1\n",
      "2\n",
      "3\n",
      "4\n",
      "5\n",
      "6\n"
     ]
    },
    {
     "data": {
      "text/plain": [
       "[3, 6]"
      ]
     },
     "execution_count": 67,
     "metadata": {},
     "output_type": "execute_result"
    }
   ],
   "source": [
    "val numbers: List<Int> = listOf(1, 2, 3, 4, 5, 6, 7)\n",
    "numbers.filterIndexed{ index, number -> \n",
    "    println(index)\n",
    "    number % 3 == 0\n",
    "}"
   ]
  },
  {
   "cell_type": "markdown",
   "metadata": {},
   "source": [
    "### filterIndexedTo\n",
    "\n",
    "`inline fun <T, C : MutableCollection<in T>> Array<out T>.filterIndexedTo(destination: C, predicate: (index: Int, T) -> Boolean): C`\n",
    "\n",
    "Appends all elements matching the given predicate to the given destination."
   ]
  },
  {
   "cell_type": "code",
   "execution_count": 83,
   "metadata": {},
   "outputs": [
    {
     "name": "stdout",
     "output_type": "stream",
     "text": [
      "0\n",
      "1\n",
      "2\n",
      "3\n",
      "4\n",
      "5\n",
      "6\n"
     ]
    },
    {
     "data": {
      "text/plain": [
       "[11, 22, 33, 44, 55, 66, 77, 2, 4, 6]"
      ]
     },
     "execution_count": 83,
     "metadata": {},
     "output_type": "execute_result"
    }
   ],
   "source": [
    "val numbers1 = listOf(1, 2, 3, 4, 5, 6, 7)\n",
    "val numbers2 = mutableListOf(11, 22, 33, 44, 55, 66, 77)\n",
    "numbers1.filterIndexedTo(numbers2){ index, number ->\n",
    "    println(index)\n",
    "    number % 2 == 0\n",
    "}"
   ]
  },
  {
   "cell_type": "markdown",
   "metadata": {},
   "source": [
    "### filterIsInstance, filterIsInstanceTo\n",
    "\n",
    "`fun <reified R> Array<*>.filterIsInstance(): List<R>`\n",
    "\n",
    "Returns a list containing all elements that are instances of specified type parameter R.\n",
    "\n",
    "`fun <reified R, C : MutableCollection<in R>> Array<*>.filterIsInstanceTo(destination: C): C`\n",
    "\n",
    "Appends all elements that are instances of specified type parameter R to the given destination."
   ]
  },
  {
   "cell_type": "code",
   "execution_count": 84,
   "metadata": {},
   "outputs": [
    {
     "data": {
      "text/plain": [
       "[1]"
      ]
     },
     "execution_count": 84,
     "metadata": {},
     "output_type": "execute_result"
    }
   ],
   "source": [
    "listOf(1, 'a', \"a\").filterIsInstance<Int>()"
   ]
  },
  {
   "cell_type": "markdown",
   "metadata": {},
   "source": [
    "### filterNotNull, filterNotNullTo\n",
    "\n",
    "`fun <T : Any> Array<out T?>.filterNotNull(): List<T>`\n",
    "\n",
    "Returns a list containing all elements that are not `null`.\n",
    "\n",
    "`fun <C : MutableCollection<in T>, T : Any> Array<out T?>.filterNotNullTo(destination: C): C`\n",
    "\n",
    "Appends all elements that are not null to the given destination."
   ]
  },
  {
   "cell_type": "code",
   "execution_count": 87,
   "metadata": {},
   "outputs": [
    {
     "name": "stdout",
     "output_type": "stream",
     "text": [
      "[1, 2, 4]\n"
     ]
    }
   ],
   "source": [
    "val numbers: List<Int?> = listOf(1, 2, null, 4)\n",
    "val nonNullNumbers = numbers.filterNotNull()\n",
    "\n",
    "println(nonNullNumbers) // [1, 2, 4]"
   ]
  },
  {
   "cell_type": "markdown",
   "metadata": {},
   "source": [
    "### filterTo, filterNotTo\n",
    "\n",
    "`inline fun <T, C : MutableCollection<in T>> Array<out T>.filterTo(destination: C, predicate: (T) -> Boolean): C`\n",
    "\n",
    "Appends all elements matching the given predicate to the given destination.\n",
    "\n",
    "`inline fun <T, C : MutableCollection<in T>> Array<out T>.filterNotTo(destination: C, predicate: (T) -> Boolean): C`\n",
    "\n",
    "Appends all elements not matching the given predicate to the given destination."
   ]
  },
  {
   "cell_type": "markdown",
   "metadata": {},
   "source": [
    "### find, findLast\n",
    "\n",
    "`inline fun <T> Array<out T>.find(predicate: (T) -> Boolean): T?`\n",
    "\n",
    "Returns the first element matching the given predicate, or `null` if no such element was found.\n",
    "\n",
    "`inline fun <T> Array<out T>.findLast(predicate: (T) -> Boolean): T?`\n",
    "\n",
    "Returns the last element matching the given predicate, or `null` if no such element was found."
   ]
  },
  {
   "cell_type": "markdown",
   "metadata": {},
   "source": [
    "### first\n",
    "\n",
    "`fun <T> Array<out T>.first(): T`\n",
    "\n",
    "Returns first element.\n",
    "\n",
    "`inline fun <T> Array<out T>.first(predicate: (T) -> Boolean): T`\n",
    "\n",
    "Returns the first element matching the given predicate. `NoSuchElementException`\n",
    "\n",
    "### firstOrNull\n",
    "\n",
    "`fun <T> Array<out T>.firstOrNull(): T?`\n",
    "\n",
    "Returns the first element, or `null` if the array is empty.\n",
    "\n",
    "`inline fun <T> Array<out T>.firstOrNull(predicate: (T) -> Boolean): T?`\n",
    "\n",
    "Returns the first element matching the given predicate, or null if element was not found.\n",
    "\n",
    "### flatMap\n",
    "\n",
    "`inline fun <T, R> Array<out T>.flatMap(transform: (T) -> Iterable<R>): List<R>`\n",
    "\n",
    "Returns a single list of all elements yielded from results of transform function being invoked on each element of original array."
   ]
  },
  {
   "cell_type": "code",
   "execution_count": 91,
   "metadata": {},
   "outputs": [
    {
     "name": "stdout",
     "output_type": "stream",
     "text": [
      "[1, 2, 3, 4, 5]\n"
     ]
    }
   ],
   "source": [
    "val list = listOf(\"123\", \"45\")\n",
    "println(list.flatMap { it.toList() }) // [1, 2, 3, 4, 5]"
   ]
  },
  {
   "cell_type": "markdown",
   "metadata": {},
   "source": [
    "### flatMapTo\n",
    "\n",
    "`inline fun <T, R, C : MutableCollection<in R>> Array<out T>.flatMapTo(destination: C, transform: (T) -> Iterable<R>): C`\n",
    "\n",
    "Appends all elements yielded from results of transform function being invoked on each element of original array, to the given destination.\n",
    "\n",
    "### flatten\n",
    "\n",
    "`fun <T> Array<out Array<out T>>.flatten(): List<T>`\n",
    "\n",
    "Returns a single list of all elements from all arrays in the given array."
   ]
  },
  {
   "cell_type": "code",
   "execution_count": 92,
   "metadata": {},
   "outputs": [
    {
     "name": "stdout",
     "output_type": "stream",
     "text": [
      "[1, 2, 3, 4, 5, 6]\n"
     ]
    }
   ],
   "source": [
    "val deepArray = arrayOf(\n",
    "    arrayOf(1),\n",
    "    arrayOf(2, 3),\n",
    "    arrayOf(4, 5, 6)\n",
    ")\n",
    "\n",
    "println(deepArray.flatten()) // [1, 2, 3, 4, 5, 6]"
   ]
  },
  {
   "cell_type": "markdown",
   "metadata": {},
   "source": [
    "### fold, foldIndexed, foldRight\n",
    "\n",
    "`inline fun <T, R> Array<out T>.fold(initial: R, operation: (acc: R, T) -> R): R`\n",
    "\n",
    "Accumulates value starting with initial value and applying operation from left to right to current accumulator value and each element.\n",
    "\n",
    "`inline fun <T, R> Array<out T>.foldIndexed(initial: R, operation: (index: Int, acc: R, T) -> R): R`\n",
    "\n",
    "Accumulates value starting with initial value and applying operation from left to right to current accumulator value and each element with its index in the original array.\n",
    "\n",
    "`inline fun <T, R> Array<out T>.foldRight(initial: R, operation: (T, acc: R) -> R): R`\n",
    "\n",
    "Accumulates value starting with initial value and applying operation from right to left to each element and current accumulator value.\n",
    "\n",
    "`inline fun <T, R> Array<out T>.foldRightIndexed(initial: R, operation: (index: Int, T, acc: R) -> R): R`\n",
    "\n",
    "Accumulates value starting with initial value and applying operation from right to left to each element with its index in the original array and current accumulator value."
   ]
  },
  {
   "cell_type": "markdown",
   "metadata": {},
   "source": [
    "### forEach\n",
    "\n",
    "`inline fun <T> Array<out T>.forEach(action: (T) -> Unit)`\n",
    "\n",
    "Performs the given action on each element.\n",
    "\n",
    "### forEachIndexed\n",
    "\n",
    "`inline fun <T> Array<out T>.forEachIndexed(action: (index: Int, T) -> Unit)`\n",
    "\n",
    "Performs the given action on each element, providing sequential index with the element.\n",
    "\n",
    "### getOrElse\n",
    "\n",
    "`inline fun <T> Array<out T>.getOrElse(index: Int, defaultValue: (Int) -> T): T`\n",
    "\n",
    "Returns an element at the given index or the result of calling the defaultValue function if the index is out of bounds of this array.\n",
    "\n",
    "### getOrNull\n",
    "\n",
    "`fun <T> Array<out T>.getOrNull(index: Int): T?`\n",
    "\n",
    "Returns an element at the given index or null if the index is out of bounds of this array."
   ]
  },
  {
   "cell_type": "markdown",
   "metadata": {},
   "source": [
    "### groupBy"
   ]
  },
  {
   "cell_type": "code",
   "execution_count": null,
   "metadata": {},
   "outputs": [],
   "source": []
  },
  {
   "cell_type": "code",
   "execution_count": null,
   "metadata": {},
   "outputs": [],
   "source": []
  },
  {
   "cell_type": "code",
   "execution_count": null,
   "metadata": {},
   "outputs": [],
   "source": []
  },
  {
   "cell_type": "code",
   "execution_count": null,
   "metadata": {},
   "outputs": [],
   "source": []
  },
  {
   "cell_type": "code",
   "execution_count": null,
   "metadata": {},
   "outputs": [],
   "source": []
  },
  {
   "cell_type": "code",
   "execution_count": null,
   "metadata": {},
   "outputs": [],
   "source": []
  },
  {
   "cell_type": "markdown",
   "metadata": {},
   "source": [
    "## to\n",
    "\n",
    "`infix fun <A, B> A.to(that: B): Pair<A, B>`\n",
    "\n",
    "Creates a tuple of type Pair from this and that.\n",
    "\n",
    "## TODO\n",
    "\n",
    "`fun TODO(): Nothing`\n",
    "\n",
    "Always throws NotImplementedError stating that operation is not implemented.\n",
    "\n",
    "`fun TODO(reason: String): Nothing`\n",
    "\n",
    "Always throws NotImplementedError stating that operation is not implemented."
   ]
  },
  {
   "cell_type": "markdown",
   "metadata": {},
   "source": [
    "## toList\n",
    "\n",
    "`fun <T> Pair<T, T>.toList(): List<T>`\n",
    "\n",
    "Converts this pair into a list.\n",
    "\n",
    "`fun <T> Triple<T, T, T>.toList(): List<T>`\n",
    "\n",
    "Converts this triple into a list."
   ]
  },
  {
   "cell_type": "code",
   "execution_count": 2,
   "metadata": {},
   "outputs": [
    {
     "name": "stdout",
     "output_type": "stream",
     "text": [
      "[1, a]\n",
      "mixedListA[0] is Int is true\n",
      "mixedListA[1] is String is true\n",
      "[0, 1]\n",
      "[1, a, 0.5]\n",
      "mixedListB[0] is Int is true\n",
      "mixedListB[1] is String is true\n",
      "mixedListB[2] is Double is true\n",
      "[0, 1, 2]\n"
     ]
    }
   ],
   "source": [
    "val mixedListA: List<Any> = Pair(1, \"a\").toList()\n",
    "println(mixedListA) // [1, a]\n",
    "println(\"mixedListA[0] is Int is ${mixedListA[0] is Int}\") // true\n",
    "println(\"mixedListA[1] is String is ${mixedListA[1] is String}\") // true\n",
    "\n",
    "val intListA: List<Int> = Pair(0, 1).toList()\n",
    "println(intListA) // [0, 1]\n",
    "\n",
    "val mixedListB: List<Any> = Triple(1, \"a\", 0.5).toList()\n",
    "println(mixedListB) // [1, a, 0.5]\n",
    "println(\"mixedListB[0] is Int is ${mixedListB[0] is Int}\") // true\n",
    "println(\"mixedListB[1] is String is ${mixedListB[1] is String}\") // true\n",
    "println(\"mixedListB[2] is Double is ${mixedListB[2] is Double}\") // true\n",
    "\n",
    "val intListB: List<Int> = Triple(0, 1, 2).toList()\n",
    "println(intListB) // [0, 1, 2]"
   ]
  },
  {
   "cell_type": "markdown",
   "metadata": {},
   "source": [
    "## with\n",
    "\n",
    "A non-extension function: **the context object** is passed as an argument, but inside the lambda, it's available as a receiver (`this`). **The return value** is the lambda result.\n",
    "\n",
    "`inline fun <T, R> with(receiver: T, block: T.() -> R): R`"
   ]
  },
  {
   "cell_type": "code",
   "execution_count": 124,
   "metadata": {},
   "outputs": [
    {
     "name": "stdout",
     "output_type": "stream",
     "text": [
      "'with' is called with argument [one, two, three]\n",
      "It contains 3 elements\n",
      "The first element is one, the last element is three\n"
     ]
    }
   ],
   "source": [
    "val numbers = mutableListOf(\"one\", \"two\", \"three\")\n",
    "with(numbers) {\n",
    "    println(\"'with' is called with argument $this\")\n",
    "    println(\"It contains $size elements\")\n",
    "}\n",
    "val firstAndLast = with(numbers) {\n",
    "    \"The first element is ${first()},\" +\n",
    "    \" the last element is ${last()}\"\n",
    "}\n",
    "println(firstAndLast)"
   ]
  }
 ],
 "metadata": {
  "kernelspec": {
   "display_name": "Kotlin",
   "language": "kotlin",
   "name": "kotlin"
  },
  "language_info": {
   "codemirror_mode": "text/x-kotlin",
   "file_extension": ".kt",
   "mimetype": "text/x-kotlin",
   "name": "kotlin",
   "pygments_lexer": "kotlin",
   "version": "1.4.20-dev-1121"
  }
 },
 "nbformat": 4,
 "nbformat_minor": 4
}
