{
 "cells": [
  {
   "cell_type": "code",
   "execution_count": null,
   "metadata": {},
   "outputs": [],
   "source": [
    "package a.b.c\n",
    "// 不需要匹配文件目录"
   ]
  },
  {
   "cell_type": "code",
   "execution_count": null,
   "metadata": {},
   "outputs": [],
   "source": [
    "// 程序入口\n",
    "fun main() {\n",
    "    println(\"Hello world!\")\n",
    "}"
   ]
  },
  {
   "cell_type": "code",
   "execution_count": null,
   "metadata": {},
   "outputs": [],
   "source": [
    "// 方法\n",
    "// fun方法开头，sum方法名，参数列表，返回值\n",
    "fun sum(a: Int, b: Int): Int {\n",
    "    return a + b\n",
    "}\n",
    "\n",
    "// 表达式可以直接返回\n",
    "fun sum(a: Int, b: Int) = a + b\n",
    "\n",
    "// Unit空类型，返回值类型可以省略\n",
    "// fun printSum(a: Int, b: Int): Unit {}\n",
    "// fun printSum(a: Int, b: Int) {}"
   ]
  },
  {
   "cell_type": "code",
   "execution_count": null,
   "metadata": {},
   "outputs": [],
   "source": [
    "// 变量\n",
    "// 常量，冒号后面跟类型，类型可推断时可省略\n",
    "val a: Int = 1\n",
    "val b = 1\n",
    "val c: Int\n",
    "c = 3\n",
    "\n",
    "// 变量\n",
    "var count = 10"
   ]
  },
  {
   "cell_type": "code",
   "execution_count": null,
   "metadata": {},
   "outputs": [],
   "source": [
    "// 注释\n",
    "/* /* 注释可嵌套 */ */"
   ]
  },
  {
   "cell_type": "code",
   "execution_count": null,
   "metadata": {},
   "outputs": [],
   "source": [
    "// 字符串模板\n",
    "var a = 1\n",
    "val s1 = \"a is $a\" \n",
    "\n",
    "a = 2\n",
    "val s2 = \"${s1.replace(\"is\", \"was\")}, but now is $a\"\n",
    "\n",
    "println(s1)\n",
    "println(s2)"
   ]
  },
  {
   "cell_type": "code",
   "execution_count": null,
   "metadata": {},
   "outputs": [],
   "source": [
    "// 条件表达式\n",
    "fun maxOfA(a: Int, b: Int): Int {\n",
    "    if (a > b) {\n",
    "        return a\n",
    "    } else {\n",
    "        return b\n",
    "    }\n",
    "}\n",
    "\n",
    "fun maxOfB(a: Int, b: Int) = if (a > b) a else b"
   ]
  },
  {
   "cell_type": "code",
   "execution_count": null,
   "metadata": {},
   "outputs": [],
   "source": [
    "// 空类型安全"
   ]
  },
  {
   "cell_type": "code",
   "execution_count": null,
   "metadata": {},
   "outputs": [],
   "source": [
    "// 类型自动转换"
   ]
  },
  {
   "cell_type": "code",
   "execution_count": null,
   "metadata": {},
   "outputs": [],
   "source": [
    "// for循环"
   ]
  },
  {
   "cell_type": "code",
   "execution_count": null,
   "metadata": {},
   "outputs": [],
   "source": [
    "// while循环"
   ]
  },
  {
   "cell_type": "code",
   "execution_count": null,
   "metadata": {},
   "outputs": [],
   "source": [
    "// when表达式"
   ]
  },
  {
   "cell_type": "code",
   "execution_count": null,
   "metadata": {},
   "outputs": [],
   "source": [
    "// 范围"
   ]
  },
  {
   "cell_type": "code",
   "execution_count": null,
   "metadata": {},
   "outputs": [],
   "source": [
    "// 集合"
   ]
  },
  {
   "cell_type": "code",
   "execution_count": null,
   "metadata": {},
   "outputs": [],
   "source": []
  }
 ],
 "metadata": {
  "kernelspec": {
   "display_name": "Kotlin",
   "language": "kotlin",
   "name": "kotlin"
  },
  "language_info": {
   "codemirror_mode": "text/x-kotlin",
   "file_extension": ".kt",
   "mimetype": "text/x-kotlin",
   "name": "kotlin",
   "pygments_lexer": "kotlin",
   "version": "1.4.20-dev-1121"
  }
 },
 "nbformat": 4,
 "nbformat_minor": 4
}
